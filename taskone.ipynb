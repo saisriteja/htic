{
  "nbformat": 4,
  "nbformat_minor": 0,
  "metadata": {
    "colab": {
      "name": "taskone.ipynb",
      "provenance": [],
      "collapsed_sections": []
    },
    "kernelspec": {
      "name": "python3",
      "display_name": "Python 3"
    }
  },
  "cells": [
    {
      "cell_type": "markdown",
      "metadata": {
        "id": "co6Zz4Zy6of3"
      },
      "source": [
        "#Rotational Angles"
      ]
    },
    {
      "cell_type": "code",
      "metadata": {
        "id": "rebYIlxZ3gbf"
      },
      "source": [
        "import numpy as np\n",
        "import math as m\n",
        " \n",
        "def Rx(theta):\n",
        "  return np.matrix([[ 1, 0           , 0           ],\n",
        "                   [ 0, m.cos(theta),-m.sin(theta)],\n",
        "                   [ 0, m.sin(theta), m.cos(theta)]])\n",
        " \n",
        "def Ry(theta):\n",
        "  return np.matrix([[ m.cos(theta), 0, m.sin(theta)],\n",
        "                   [ 0           , 1, 0           ],\n",
        "                   [-m.sin(theta), 0, m.cos(theta)]])\n",
        " \n",
        "def Rz(theta):\n",
        "  return np.matrix([[ m.cos(theta), -m.sin(theta), 0 ],\n",
        "                   [ m.sin(theta), m.cos(theta) , 0 ],\n",
        "                   [ 0           , 0            , 1 ]])"
      ],
      "execution_count": 1,
      "outputs": []
    },
    {
      "cell_type": "code",
      "metadata": {
        "colab": {
          "base_uri": "https://localhost:8080/"
        },
        "id": "xCtqlXMT3lXd",
        "outputId": "ce8f9545-4f3d-4cfe-c09d-7d39b4a8b836"
      },
      "source": [
        "phi = m.pi/2\n",
        "theta = m.pi/4\n",
        "psi = m.pi/2\n",
        "print(\"phi =\", phi)\n",
        "print(\"theta  =\", theta)\n",
        "print(\"psi =\", psi)\n",
        "  \n",
        "  \n",
        "R = Rz(psi) * Ry(theta) * Rx(phi)\n",
        "print(np.round(R, decimals=2))"
      ],
      "execution_count": 2,
      "outputs": [
        {
          "output_type": "stream",
          "text": [
            "phi = 1.5707963267948966\n",
            "theta  = 0.7853981633974483\n",
            "psi = 1.5707963267948966\n",
            "[[ 0.   -0.    1.  ]\n",
            " [ 0.71  0.71 -0.  ]\n",
            " [-0.71  0.71  0.  ]]\n"
          ],
          "name": "stdout"
        }
      ]
    },
    {
      "cell_type": "markdown",
      "metadata": {
        "id": "ahiW_9L96rqz"
      },
      "source": [
        "#Euler angles"
      ]
    },
    {
      "cell_type": "code",
      "metadata": {
        "colab": {
          "base_uri": "https://localhost:8080/"
        },
        "id": "FkOK7cfe3pti",
        "outputId": "29ef9468-a6d1-4a47-957e-acfdabd75d3a"
      },
      "source": [
        "import sys\n",
        "tol = sys.float_info.epsilon * 10\n",
        "  \n",
        "if abs(R.item(0,0))< tol and abs(R.item(1,0)) < tol:\n",
        "   eul1 = 0\n",
        "   eul2 = m.atan2(-R.item(2,0), R.item(0,0))\n",
        "   eul3 = m.atan2(-R.item(1,2), R.item(1,1))\n",
        "else:   \n",
        "   eul1 = m.atan2(R.item(1,0),R.item(0,0))\n",
        "   sp = m.sin(eul1)\n",
        "   cp = m.cos(eul1)\n",
        "   eul2 = m.atan2(-R.item(2,0),cp*R.item(0,0)+sp*R.item(1,0))\n",
        "   eul3 = m.atan2(sp*R.item(0,2)-cp*R.item(1,2),cp*R.item(1,1)-sp*R.item(0,1))\n",
        "  \n",
        "print(\"phi =\", eul1)\n",
        "print(\"theta  =\", eul2)\n",
        "print(\"psi =\", eul3)"
      ],
      "execution_count": 3,
      "outputs": [
        {
          "output_type": "stream",
          "text": [
            "phi = 1.5707963267948966\n",
            "theta  = 0.7853981633974483\n",
            "psi = 1.5707963267948966\n"
          ],
          "name": "stdout"
        }
      ]
    },
    {
      "cell_type": "markdown",
      "metadata": {
        "id": "WkcZn7EH6ul5"
      },
      "source": [
        "#quaternions \n",
        "\n",
        "quaternions to euler and vice versa"
      ]
    },
    {
      "cell_type": "code",
      "metadata": {
        "id": "3MusSuoU3uiL"
      },
      "source": [
        "def q_conjugate(q):\n",
        "    w, x, y, z = q\n",
        "    return (w, -x, -y, -z)\n",
        "\n",
        "def qv_mult(q1, v1):\n",
        "    q2 = (0.0,) + v1\n",
        "    return q_mult(q_mult(q1, q2), q_conjugate(q1))[1:]\n",
        "\n",
        "def q_mult(q1, q2):\n",
        "    w1, x1, y1, z1 = q1\n",
        "    w2, x2, y2, z2 = q2\n",
        "    w = w1 * w2 - x1 * x2 - y1 * y2 - z1 * z2\n",
        "    x = w1 * x2 + x1 * w2 + y1 * z2 - z1 * y2\n",
        "    y = w1 * y2 + y1 * w2 + z1 * x2 - x1 * z2\n",
        "    z = w1 * z2 + z1 * w2 + x1 * y2 - y1 * x2\n",
        "    return w, x, y, z\n",
        "\n",
        "def euler_to_quaternion(phi, theta, psi):\n",
        "\n",
        "        qw = m.cos(phi/2) * m.cos(theta/2) * m.cos(psi/2) + m.sin(phi/2) * m.sin(theta/2) * m.sin(psi/2)\n",
        "        qx = m.sin(phi/2) * m.cos(theta/2) * m.cos(psi/2) - m.cos(phi/2) * m.sin(theta/2) * m.sin(psi/2)\n",
        "        qy = m.cos(phi/2) * m.sin(theta/2) * m.cos(psi/2) + m.sin(phi/2) * m.cos(theta/2) * m.sin(psi/2)\n",
        "        qz = m.cos(phi/2) * m.cos(theta/2) * m.sin(psi/2) - m.sin(phi/2) * m.sin(theta/2) * m.cos(psi/2)\n",
        "\n",
        "        return [qw, qx, qy, qz]\n",
        "\n",
        "\n",
        "def quaternion_to_euler(w, x, y, z):\n",
        " \n",
        "        t0 = 2 * (w * x + y * z)\n",
        "        t1 = 1 - 2 * (x * x + y * y)\n",
        "        X = m.atan2(t0, t1)\n",
        " \n",
        "        t2 = 2 * (w * y - z * x)\n",
        "        t2 = 1 if t2 > 1 else t2\n",
        "        t2 = -1 if t2 < -1 else t2\n",
        "        Y = m.asin(t2)\n",
        "         \n",
        "        t3 = 2 * (w * z + x * y)\n",
        "        t4 = 1 - 2 * (y * y + z * z)\n",
        "        Z = m.atan2(t3, t4)\n",
        " \n",
        "        return X, Y, Z"
      ],
      "execution_count": 5,
      "outputs": []
    },
    {
      "cell_type": "code",
      "metadata": {
        "colab": {
          "base_uri": "https://localhost:8080/"
        },
        "id": "3f2rlngz5XOL",
        "outputId": "f11c3561-83d8-4029-8a7e-a272917144f8"
      },
      "source": [
        "phi = m.pi/2\n",
        "theta = m.pi/4\n",
        "psi = m.pi/2\n",
        "q = euler_to_quaternion(phi, theta, psi)\n",
        "print(\"w =\", q[0])\n",
        "print(\"x =\", q[1])\n",
        "print(\"y =\", q[2])\n",
        "print(\"z =\", q[3])"
      ],
      "execution_count": 6,
      "outputs": [
        {
          "output_type": "stream",
          "text": [
            "w = 0.6532814824381883\n",
            "x = 0.27059805007309845\n",
            "y = 0.6532814824381882\n",
            "z = 0.2705980500730985\n"
          ],
          "name": "stdout"
        }
      ]
    },
    {
      "cell_type": "code",
      "metadata": {
        "colab": {
          "base_uri": "https://localhost:8080/"
        },
        "id": "-jHiZ64X63c7",
        "outputId": "486527ce-855b-4298-fefd-261218be26c1"
      },
      "source": [
        "p1,p2,p3 = quaternion_to_euler(q[0],q[1],q[2],q[3])\n",
        "# print(phi,theta,psi)\n",
        "print('phi'.ljust(15,'-'),p1)\n",
        "print('theta'.ljust(15,'-'),p2)\n",
        "print('psi'.ljust(15,'-'),p3)"
      ],
      "execution_count": 19,
      "outputs": [
        {
          "output_type": "stream",
          "text": [
            "phi------------ 1.5707963267948961\n",
            "theta---------- 0.7853981633974482\n",
            "psi------------ 1.5707963267948963\n"
          ],
          "name": "stdout"
        }
      ]
    },
    {
      "cell_type": "markdown",
      "metadata": {
        "id": "MMtgXF6Q-Z7m"
      },
      "source": [
        "#axis angle representation"
      ]
    },
    {
      "cell_type": "code",
      "metadata": {
        "colab": {
          "base_uri": "https://localhost:8080/"
        },
        "id": "KF8orysi53oL",
        "outputId": "356bda49-8c31-4d9a-ae3f-e057568c7319"
      },
      "source": [
        "v = np.array([1,0,1])\n",
        "k = np.array([0,0,1])\n",
        "theta = m.pi\n",
        "\n",
        "t1 = v*np.cos(theta)\n",
        "t2 = np.cross(k,v)*np.sin(theta)\n",
        "t3 = k*np.dot(k,v)*(1-np.cos(theta))\n",
        "\n",
        "\n",
        "vrot = t1 + t2 + t3\n",
        "print(np.round(vrot,2))"
      ],
      "execution_count": 46,
      "outputs": [
        {
          "output_type": "stream",
          "text": [
            "[-1.  0.  1.]\n"
          ],
          "name": "stdout"
        }
      ]
    },
    {
      "cell_type": "code",
      "metadata": {
        "colab": {
          "base_uri": "https://localhost:8080/"
        },
        "id": "MEg-XELl_KP6",
        "outputId": "00546fa8-fa88-4347-c977-dd074b6cd2a5"
      },
      "source": [
        "np.matmul(v,np.round(Rz(np.pi),2))"
      ],
      "execution_count": 45,
      "outputs": [
        {
          "output_type": "execute_result",
          "data": {
            "text/plain": [
              "array([-1.,  0.,  1.])"
            ]
          },
          "metadata": {
            "tags": []
          },
          "execution_count": 45
        }
      ]
    }
  ]
}