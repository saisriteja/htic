{
 "cells": [
  {
   "cell_type": "code",
   "execution_count": 48,
   "metadata": {},
   "outputs": [],
   "source": [
    "import sympy as sym\n",
    "from sympy import *\n",
    "sym.init_printing(use_latex='mathjax')\n",
    "from IPython.display import display,Math"
   ]
  },
  {
   "cell_type": "code",
   "execution_count": 53,
   "metadata": {},
   "outputs": [
    {
     "data": {
      "text/latex": [
       "$\\displaystyle \\left[\\begin{matrix}q_{x}\\\\q_{y}\\\\q_{z}\\end{matrix}\\right]$"
      ],
      "text/plain": [
       "⎡q_{x}⎤\n",
       "⎢     ⎥\n",
       "⎢q_{y}⎥\n",
       "⎢     ⎥\n",
       "⎣q_{z}⎦"
      ]
     },
     "metadata": {},
     "output_type": "display_data"
    }
   ],
   "source": [
    "#qx,qy,qz is generally a point in the space with respect to origin\n",
    "qx,qy,qz = sym.symbols('q_{x} q_{y} q_{z}')\n",
    "Q_u = Matrix([qx,qy,qz])\n",
    "display(Q_u)"
   ]
  },
  {
   "cell_type": "code",
   "execution_count": 55,
   "metadata": {},
   "outputs": [],
   "source": [
    "#imagine a gripper for a robo arm it changes its axis wrt to standard origin axis this can be due to either\n",
    "#rotational or translational changes\n",
    "\n",
    "#frame is a four vector carrying position and orientation information - persepctive \n",
    "#transformation contribute the extra dimension four\n",
    "#with a  scaling factor of 1, so that when we take a inverse we neednot suffer errors"
   ]
  },
  {
   "cell_type": "code",
   "execution_count": 65,
   "metadata": {},
   "outputs": [
    {
     "data": {
      "text/latex": [
       "$\\displaystyle \\left[\\begin{matrix}r_{11} & r_{21} & r_{31} & q_{x}\\\\r_{21} & r_{22} & r_{23} & q_{y}\\\\r_{31} & r_{32} & r_{33} & q_{z}\\\\0 & 0 & 0 & 1\\end{matrix}\\right]$"
      ],
      "text/plain": [
       "⎡r_{11}  r_{21}  r_{31}  q_{x}⎤\n",
       "⎢                             ⎥\n",
       "⎢r_{21}  r_{22}  r_{23}  q_{y}⎥\n",
       "⎢                             ⎥\n",
       "⎢r_{31}  r_{32}  r_{33}  q_{z}⎥\n",
       "⎢                             ⎥\n",
       "⎣  0       0       0       1  ⎦"
      ]
     },
     "metadata": {},
     "output_type": "display_data"
    }
   ],
   "source": [
    "#transformational matrix\n",
    "r11,r21,r31,r21,r22,r23,r31,r32,r33 = sym.symbols('r_{11},r_{21},r_{31},r_{21},r_{22},r_{23},r_{31},r_{32},r_{33}')\n",
    "T = sym.symbols('T_{matrix}')\n",
    "transformation_matrix = Matrix([[r11,r21,r31,qx],[r21,r22,r23,qy],[r31,r32,r33,qz],[0,0,0,1] ])\n",
    "display(transformation_matrix)"
   ]
  },
  {
   "cell_type": "code",
   "execution_count": 70,
   "metadata": {},
   "outputs": [
    {
     "data": {
      "text/latex": [
       "$\\displaystyle \\left[\\begin{matrix}1 & 0 & 0 & x\\\\0 & 1 & 0 & y\\\\0 & 0 & 1 & z\\\\0 & 0 & 0 & 1\\end{matrix}\\right]$"
      ],
      "text/plain": [
       "⎡1  0  0  x⎤\n",
       "⎢          ⎥\n",
       "⎢0  1  0  y⎥\n",
       "⎢          ⎥\n",
       "⎢0  0  1  z⎥\n",
       "⎢          ⎥\n",
       "⎣0  0  0  1⎦"
      ]
     },
     "metadata": {},
     "output_type": "display_data"
    }
   ],
   "source": [
    "#for a tranlational operation use matrices in way they tend to be\n",
    "#x ,y,z are the trantional values changed wrt to origin\n",
    "# translational operators are commutative in operation\n",
    "x,y,z = sym.symbols('x y z')\n",
    "translation_matrix = Matrix([[1,0,0,x],[0,1,0,y],[0,0,1,z],[0,0,0,1]])\n",
    "display(translation_matrix)"
   ]
  },
  {
   "cell_type": "code",
   "execution_count": 85,
   "metadata": {},
   "outputs": [
    {
     "data": {
      "text/latex": [
       "$\\displaystyle \\left[\\begin{matrix}1 & 0 & 0\\\\0 & \\cos{\\left(\\theta \\right)} & - \\sin{\\left(\\theta \\right)}\\\\0 & \\sin{\\left(\\theta \\right)} & \\cos{\\left(\\theta \\right)}\\end{matrix}\\right]$"
      ],
      "text/plain": [
       "⎡1    0        0   ⎤\n",
       "⎢                  ⎥\n",
       "⎢0  cos(θ)  -sin(θ)⎥\n",
       "⎢                  ⎥\n",
       "⎣0  sin(θ)  cos(θ) ⎦"
      ]
     },
     "metadata": {},
     "output_type": "display_data"
    },
    {
     "data": {
      "text/latex": [
       "$\\displaystyle \\left[\\begin{matrix}\\cos{\\left(\\theta \\right)} & 0 & \\sin{\\left(\\theta \\right)}\\\\0 & 1 & 0\\\\- \\sin{\\left(\\theta \\right)} & 0 & \\cos{\\left(\\theta \\right)}\\end{matrix}\\right]$"
      ],
      "text/plain": [
       "⎡cos(θ)   0  sin(θ)⎤\n",
       "⎢                  ⎥\n",
       "⎢   0     1    0   ⎥\n",
       "⎢                  ⎥\n",
       "⎣-sin(θ)  0  cos(θ)⎦"
      ]
     },
     "metadata": {},
     "output_type": "display_data"
    },
    {
     "data": {
      "text/latex": [
       "$\\displaystyle \\left[\\begin{matrix}- \\cos{\\left(\\theta \\right)} & \\sin{\\left(\\theta \\right)} & 0\\\\\\sin{\\left(\\theta \\right)} & \\cos{\\left(\\theta \\right)} & 0\\\\0 & 0 & 1\\end{matrix}\\right]$"
      ],
      "text/plain": [
       "⎡-cos(θ)  sin(θ)  0⎤\n",
       "⎢                  ⎥\n",
       "⎢sin(θ)   cos(θ)  0⎥\n",
       "⎢                  ⎥\n",
       "⎣   0       0     1⎦"
      ]
     },
     "metadata": {},
     "output_type": "display_data"
    }
   ],
   "source": [
    "#rotational matrices\n",
    "#rotational matrices are not commutative \n",
    "#each column or a row is a unit vector\n",
    "#col*col or row*row  mutiplication gives a zero vector\n",
    "#inverse of a rotational matrix is its transpose\n",
    "\n",
    "\n",
    "theta = sym.symbols('theta')\n",
    "\n",
    "rotation_x = Matrix([[1,0,0],[0,cos(theta),-sin(theta)],[0,sin(theta),cos(theta)]])\n",
    "rotation_y = Matrix([[cos(theta),0,sin(theta)],[0,1,0],[-sin(theta),0,cos(theta)]])\n",
    "rotation_z = Matrix([[-cos(theta),sin(theta),0],[sin(theta),cos(theta),0],[0,0,1]])\n",
    "\n",
    "\n",
    "display(rotation_x,rotation_y,rotation_z)"
   ]
  },
  {
   "cell_type": "code",
   "execution_count": 88,
   "metadata": {},
   "outputs": [],
   "source": [
    "#question in lecture 13\n",
    "#rotated 45degree along x axis and translated along x,y,z - 1,2,3 \n",
    "#find the new cordinates q(3,2,1) for the new coordinate system"
   ]
  },
  {
   "cell_type": "code",
   "execution_count": 93,
   "metadata": {},
   "outputs": [
    {
     "data": {
      "text/latex": [
       "$\\displaystyle \\left[\\begin{matrix}3\\\\2\\\\1\\end{matrix}\\right]$"
      ],
      "text/plain": [
       "⎡3⎤\n",
       "⎢ ⎥\n",
       "⎢2⎥\n",
       "⎢ ⎥\n",
       "⎣1⎦"
      ]
     },
     "metadata": {},
     "output_type": "display_data"
    }
   ],
   "source": [
    "#coordinates\n",
    "q = Q_u.subs({qx:3,qy:2,qz:1})\n",
    "display(q)"
   ]
  },
  {
   "cell_type": "code",
   "execution_count": 94,
   "metadata": {},
   "outputs": [
    {
     "data": {
      "text/latex": [
       "$\\displaystyle \\left[\\begin{matrix}1 & 0 & 0\\\\0 & \\cos{\\left(45 \\right)} & - \\sin{\\left(45 \\right)}\\\\0 & \\sin{\\left(45 \\right)} & \\cos{\\left(45 \\right)}\\end{matrix}\\right]$"
      ],
      "text/plain": [
       "⎡1     0        0    ⎤\n",
       "⎢                    ⎥\n",
       "⎢0  cos(45)  -sin(45)⎥\n",
       "⎢                    ⎥\n",
       "⎣0  sin(45)  cos(45) ⎦"
      ]
     },
     "metadata": {},
     "output_type": "display_data"
    }
   ],
   "source": [
    "#rotate along x axis of 45\n",
    "rotate = rotation_x.subs(theta,45)\n",
    "display(rotate)"
   ]
  },
  {
   "cell_type": "code",
   "execution_count": 105,
   "metadata": {},
   "outputs": [
    {
     "data": {
      "text/latex": [
       "$\\displaystyle \\left[\\begin{matrix}3\\\\- \\sin{\\left(45 \\right)} + 2 \\cos{\\left(45 \\right)}\\\\\\cos{\\left(45 \\right)} + 2 \\sin{\\left(45 \\right)}\\end{matrix}\\right]$"
      ],
      "text/plain": [
       "⎡         3          ⎤\n",
       "⎢                    ⎥\n",
       "⎢-sin(45) + 2⋅cos(45)⎥\n",
       "⎢                    ⎥\n",
       "⎣cos(45) + 2⋅sin(45) ⎦"
      ]
     },
     "metadata": {},
     "output_type": "display_data"
    }
   ],
   "source": [
    "#after rotation\n",
    "q_r = rotate*q\n",
    "display(q_r)"
   ]
  },
  {
   "cell_type": "code",
   "execution_count": 106,
   "metadata": {},
   "outputs": [
    {
     "data": {
      "text/latex": [
       "$\\displaystyle \\left[\\begin{matrix}1\\\\2\\\\3\\end{matrix}\\right]$"
      ],
      "text/plain": [
       "⎡1⎤\n",
       "⎢ ⎥\n",
       "⎢2⎥\n",
       "⎢ ⎥\n",
       "⎣3⎦"
      ]
     },
     "metadata": {},
     "output_type": "display_data"
    }
   ],
   "source": [
    "#translation\n",
    "translation = Matrix([1,2,3])\n",
    "display(translation)"
   ]
  },
  {
   "cell_type": "code",
   "execution_count": 112,
   "metadata": {},
   "outputs": [
    {
     "data": {
      "text/latex": [
       "$\\displaystyle \\left[\\begin{matrix}4\\\\- \\sin{\\left(45 \\right)} + 2 \\cos{\\left(45 \\right)} + 2\\\\\\cos{\\left(45 \\right)} + 2 \\sin{\\left(45 \\right)} + 3\\end{matrix}\\right]$"
      ],
      "text/plain": [
       "⎡           4            ⎤\n",
       "⎢                        ⎥\n",
       "⎢-sin(45) + 2⋅cos(45) + 2⎥\n",
       "⎢                        ⎥\n",
       "⎣cos(45) + 2⋅sin(45) + 3 ⎦"
      ]
     },
     "metadata": {},
     "output_type": "display_data"
    }
   ],
   "source": [
    "#after tranlation\n",
    "q_r_t = translation+q_r\n",
    "display(q_r_t)"
   ]
  },
  {
   "cell_type": "code",
   "execution_count": 114,
   "metadata": {},
   "outputs": [
    {
     "data": {
      "text/latex": [
       "$\\displaystyle \\left[\\begin{matrix}4.0\\\\2.19974045310134\\\\5.22712903788597\\end{matrix}\\right]$"
      ],
      "text/plain": [
       "⎡      4.0       ⎤\n",
       "⎢                ⎥\n",
       "⎢2.19974045310134⎥\n",
       "⎢                ⎥\n",
       "⎣5.22712903788597⎦"
      ]
     },
     "metadata": {},
     "output_type": "display_data"
    }
   ],
   "source": [
    "#solved equation\n",
    "display(N(q_r_t))"
   ]
  },
  {
   "cell_type": "code",
   "execution_count": 123,
   "metadata": {},
   "outputs": [
    {
     "data": {
      "text/latex": [
       "$\\displaystyle \\left[\\begin{matrix}\\cos{\\left(\\theta \\right)} & - \\sin{\\left(\\theta \\right)} & 0 & r \\cos{\\left(\\theta \\right)}\\\\\\sin{\\left(\\theta \\right)} & \\cos{\\left(\\theta \\right)} & 0 & r \\sin{\\left(\\theta \\right)}\\\\0 & 0 & 1 & z\\\\0 & 0 & 0 & 1\\end{matrix}\\right]$"
      ],
      "text/plain": [
       "⎡cos(θ)  -sin(θ)  0  r⋅cos(θ)⎤\n",
       "⎢                            ⎥\n",
       "⎢sin(θ)  cos(θ)   0  r⋅sin(θ)⎥\n",
       "⎢                            ⎥\n",
       "⎢  0        0     1     z    ⎥\n",
       "⎢                            ⎥\n",
       "⎣  0        0     0     1    ⎦"
      ]
     },
     "metadata": {},
     "output_type": "display_data"
    }
   ],
   "source": [
    "#upto now we have done in cartesian coordianate system\n",
    "#translate along the x axis y r\n",
    "#rotate anitclockwise by theta in y\n",
    "#translate along z axis by z\n",
    "\n",
    "#by making these changes then you go from x,y,z to u,v,z(xcos,ysin,z)\n",
    "\n",
    "r = sym.symbols('r')\n",
    "\n",
    "\n",
    "#in case of cylindircal coordinate system\n",
    "#translationmatrix = trans(x)*rot(y)*tran(z)\n",
    "\n",
    "translation_matrix = Matrix([[cos(theta),-sin(theta),0,x],[sin(theta),cos(theta),0,y],[0,0,1,z],[0,0,0,1]])\n",
    "display(translation_matrix.subs({x:r*cos(theta),y:r*sin(theta),z:z}))"
   ]
  },
  {
   "cell_type": "code",
   "execution_count": 130,
   "metadata": {},
   "outputs": [
    {
     "data": {
      "text/latex": [
       "$\\displaystyle \\left[\\begin{matrix}- \\cos{\\left(\\theta \\right)} & \\sin{\\left(\\theta \\right)} & 0\\\\\\sin{\\left(\\theta \\right)} & \\cos{\\left(\\theta \\right)} & 0\\\\0 & 0 & 1\\end{matrix}\\right]$"
      ],
      "text/plain": [
       "⎡-cos(θ)  sin(θ)  0⎤\n",
       "⎢                  ⎥\n",
       "⎢sin(θ)   cos(θ)  0⎥\n",
       "⎢                  ⎥\n",
       "⎣   0       0     1⎦"
      ]
     },
     "execution_count": 130,
     "metadata": {},
     "output_type": "execute_result"
    }
   ],
   "source": [
    "identity = Matrix([[1,0,0],[0,1,0],[0,0,1]])\n",
    "identity*rotation_z"
   ]
  },
  {
   "cell_type": "code",
   "execution_count": 124,
   "metadata": {},
   "outputs": [
    {
     "data": {
      "text/latex": [
       "$\\displaystyle \\left[\\begin{matrix}\\cos{\\left(\\theta \\right)} & - \\sin{\\left(\\theta \\right)} & 0 & r \\cos{\\left(\\theta \\right)}\\\\\\sin{\\left(\\theta \\right)} & \\cos{\\left(\\theta \\right)} & 0 & r \\sin{\\left(\\theta \\right)}\\\\0 & 0 & 1 & z\\\\0 & 0 & 0 & 1\\end{matrix}\\right]$"
      ],
      "text/plain": [
       "⎡cos(θ)  -sin(θ)  0  r⋅cos(θ)⎤\n",
       "⎢                            ⎥\n",
       "⎢sin(θ)  cos(θ)   0  r⋅sin(θ)⎥\n",
       "⎢                            ⎥\n",
       "⎢  0        0     1     z    ⎥\n",
       "⎢                            ⎥\n",
       "⎣  0        0     0     1    ⎦"
      ]
     },
     "metadata": {},
     "output_type": "display_data"
    }
   ],
   "source": [
    "#upto now we have done in cartesian coordianate system\n",
    "#translate along the z axis y r\n",
    "#rotate anitclockwise by alpha in y\n",
    "#rotate anitclockwise by beta in z\n",
    "\n",
    "#by making these changes then you go from x,y,z to u,v,z(xcos,ysin,z)\n",
    "\n",
    "r = sym.symbols('r')\n",
    "\n",
    "\n",
    "#in case of cylindircal coordinate system\n",
    "#translationmatrix = trans(z)*rot(y)*rot(z)\n",
    "\n",
    "translation_matrix = Matrix([[cos(theta),-sin(theta),0,x],[sin(theta),cos(theta),0,y],[0,0,1,z],[0,0,0,1]])\n",
    "display(translation_matrix.subs({x:r*cos(theta),y:r*sin(theta),z:z}))"
   ]
  },
  {
   "cell_type": "code",
   "execution_count": null,
   "metadata": {},
   "outputs": [],
   "source": []
  }
 ],
 "metadata": {
  "kernelspec": {
   "display_name": "Python 3",
   "language": "python",
   "name": "python3"
  },
  "language_info": {
   "codemirror_mode": {
    "name": "ipython",
    "version": 3
   },
   "file_extension": ".py",
   "mimetype": "text/x-python",
   "name": "python",
   "nbconvert_exporter": "python",
   "pygments_lexer": "ipython3",
   "version": "3.7.8"
  }
 },
 "nbformat": 4,
 "nbformat_minor": 4
}
