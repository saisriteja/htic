{
 "cells": [
  {
   "cell_type": "code",
   "execution_count": 74,
   "metadata": {},
   "outputs": [],
   "source": [
    "%matplotlib qt\n",
    "# %matplotlib inline"
   ]
  },
  {
   "cell_type": "code",
   "execution_count": 75,
   "metadata": {},
   "outputs": [],
   "source": [
    "#https://math.stackexchange.com/questions/73237/parametric-equation-of-a-circle-in-3d-space\n",
    "#https://stackoverflow.com/questions/32317247/how-to-draw-a-cylinder-using-matplotlib-along-length-of-point-x1-y1-and-x2-y2\n",
    "\n",
    "import numpy as np\n",
    "from matplotlib import pyplot as plt\n",
    "from mpl_toolkits.mplot3d import Axes3D\n",
    "from scipy.linalg import norm\n",
    "\n",
    "fig = plt.figure()\n",
    "ax = fig.add_subplot(111, projection='3d')\n",
    "origin = np.array([0, 0, 0])\n",
    "\n",
    "#axis and radius\n",
    "p0 = np.array([1, 2, 3])\n",
    "p1 = np.array([4, 5, 2])\n",
    "R = 5\n",
    "\n",
    "#vector in direction of axis\n",
    "v = p1 - p0\n",
    "\n",
    "#find magnitude of vector\n",
    "mag = norm(v)\n",
    "\n",
    "#unit vector in direction of axis\n",
    "v = v / mag\n",
    "\n",
    "#make some vector not in the same direction as v\n",
    "not_v = np.array([1, 0, 0])\n",
    "if (v == not_v).all():\n",
    "    not_v = np.array([0, 1, 0])\n",
    "    \n",
    "#make vector perpendicular to v\n",
    "n1 = np.cross(v, not_v)\n",
    "\n",
    "#normalize n1\n",
    "n1 /= norm(n1)\n",
    "\n",
    "#make unit vector perpendicular to v and n1\n",
    "n2 = np.cross(v, n1)\n",
    "\n",
    "#surface ranges over t from 0 to length of axis and 0 to 2*pi\n",
    "t = np.linspace(0, mag, 100)\n",
    "theta = np.linspace(0, 2 * np.pi, 100)\n",
    "\n",
    "#use meshgrid to make 2d arrays\n",
    "t, theta = np.meshgrid(t, theta)\n",
    "\n",
    "#generate coordinates for surface\n",
    "X, Y, Z = [p0[i] + v[i] * t + R * np.sin(theta) * n1[i] + R * np.cos(theta) * n2[i] for i in [0, 1, 2]]\n",
    "\n",
    "ax.plot_surface(X, Y, Z)\n",
    "#plot axis\n",
    "ax.plot(*zip(p0, p1), color = 'red')\n",
    "ax.set_xlim(-10, 10)\n",
    "ax.set_ylim(-10, 10)\n",
    "ax.set_zlim(-10, 10)\n",
    "plt.show()"
   ]
  },
  {
   "cell_type": "code",
   "execution_count": 55,
   "metadata": {},
   "outputs": [],
   "source": [
    "#https://www.maplesoft.com/applications/view.aspx?SID=4503&view=html\n",
    "#https://math.stackexchange.com/questions/1732385/cartesian-equation-cylinder-along-a-line\n",
    "#sympy module for solving quadratic equations\n",
    "\n",
    "import sympy as sym\n",
    "x,y,z,x1,y1,z1,x2,y2,z2,r = sym.symbols('x y z x1 y1 z1 x2 y2 z2 r')\n",
    "\n",
    "#general equation obtained from the following the blog\n",
    "equation = ((y-y1)*(z-z2)  - (z-z1)*(y-y2)) ** 2 + ((x-x1)*(y-y2) - (y-y1)*(x-x2))**2 +((z-z2)*(x-x2) - (x-x1)*(z-z2))**2 + (r**2)*((x2-x1)**2+(y2-y1)**2+(z2-z1)**2)"
   ]
  },
  {
   "cell_type": "code",
   "execution_count": 56,
   "metadata": {},
   "outputs": [
    {
     "name": "stdout",
     "output_type": "stream",
     "text": [
      "the general equation of the cylinder in 3d space\n"
     ]
    },
    {
     "data": {
      "text/latex": [
       "$\\displaystyle r^{2} \\left(\\left(- x_{1} + x_{2}\\right)^{2} + \\left(- y_{1} + y_{2}\\right)^{2} + \\left(- z_{1} + z_{2}\\right)^{2}\\right) + \\left(\\left(x - x_{1}\\right) \\left(y - y_{2}\\right) - \\left(x - x_{2}\\right) \\left(y - y_{1}\\right)\\right)^{2} + \\left(- \\left(x - x_{1}\\right) \\left(z - z_{2}\\right) + \\left(x - x_{2}\\right) \\left(z - z_{2}\\right)\\right)^{2} + \\left(\\left(y - y_{1}\\right) \\left(z - z_{2}\\right) - \\left(y - y_{2}\\right) \\left(z - z_{1}\\right)\\right)^{2}$"
      ],
      "text/plain": [
       "r**2*((-x1 + x2)**2 + (-y1 + y2)**2 + (-z1 + z2)**2) + ((x - x1)*(y - y2) - (x - x2)*(y - y1))**2 + (-(x - x1)*(z - z2) + (x - x2)*(z - z2))**2 + ((y - y1)*(z - z2) - (y - y2)*(z - z1))**2"
      ]
     },
     "execution_count": 56,
     "metadata": {},
     "output_type": "execute_result"
    }
   ],
   "source": [
    "print('the general equation of the cylinder in 3d space')\n",
    "equation"
   ]
  },
  {
   "cell_type": "code",
   "execution_count": 57,
   "metadata": {},
   "outputs": [],
   "source": [
    "import numpy as np\n",
    "\n",
    "#in puts as a random points for a making a vector using 2 points\n",
    "random_points_line = np.array([[-1,0,0],[-2,0,0]])\n",
    "t = sym.symbols('t')\n",
    "general = random_points_line[0] + t*random_points_line[1]"
   ]
  },
  {
   "cell_type": "code",
   "execution_count": 58,
   "metadata": {},
   "outputs": [],
   "source": [
    "#from the example above points are \n",
    "eq = equation.subs({x1:1,y1:2,z1:3,x2:4,y2:5,z2:2,r:3,x:general[0],y:general[1],z:general[2]})"
   ]
  },
  {
   "cell_type": "code",
   "execution_count": 59,
   "metadata": {},
   "outputs": [
    {
     "data": {
      "text/plain": [
       "[-sqrt(82)*I/3, sqrt(82)*I/3]"
      ]
     },
     "execution_count": 59,
     "metadata": {},
     "output_type": "execute_result"
    }
   ],
   "source": [
    "#solve function helps to slove the quadratic equation and give the values of the t,\n",
    "#using t we find the point(vector of 3*1) using \n",
    "#the form l1+t*l2\n",
    "\n",
    "from sympy import *\n",
    "new = sympify(eq)\n",
    "solve(new,t)"
   ]
  },
  {
   "cell_type": "code",
   "execution_count": 69,
   "metadata": {},
   "outputs": [
    {
     "name": "stdout",
     "output_type": "stream",
     "text": [
      "on substituion of the first point -math.sqrt(82)*I/3 -5.68434188608080e-14\n",
      "on substituion of the first point math.sqrt(82)*I/3 -5.68434188608080e-14\n"
     ]
    }
   ],
   "source": [
    "import math\n",
    "#specific points substitution for cross checking\n",
    "point = equation.subs({x1:1,y1:2,z1:3,x2:4,y2:5,z2:2,r:3,x:general[0],y:general[1],z:general[2]})\n",
    "\n",
    "print('on substituion of the first point -math.sqrt(82)*I/3',sympify(eq.subs({t:-math.sqrt(82)*I/3})))\n",
    "print('on substituion of the first point math.sqrt(82)*I/3',sympify(eq.subs({t:math.sqrt(82)*I/3})))"
   ]
  },
  {
   "cell_type": "code",
   "execution_count": 73,
   "metadata": {},
   "outputs": [
    {
     "name": "stdout",
     "output_type": "stream",
     "text": [
      "points are\n"
     ]
    },
    {
     "data": {
      "text/plain": [
       "(Matrix([\n",
       " [-1 + 6.03692342542494*I],\n",
       " [                      0],\n",
       " [                      0]]),\n",
       " Matrix([\n",
       " [-1 - 6.03692342542494*I],\n",
       " [                      0],\n",
       " [                      0]]))"
      ]
     },
     "execution_count": 73,
     "metadata": {},
     "output_type": "execute_result"
    }
   ],
   "source": [
    "from sympy import Matrix\n",
    "general_p = Matrix(general)\n",
    "print('points are')\n",
    "general_p.subs({t:-math.sqrt(82)*I/3}),general_p.subs({t:+math.sqrt(82)*I/3}),"
   ]
  },
  {
   "cell_type": "code",
   "execution_count": 76,
   "metadata": {},
   "outputs": [
    {
     "name": "stdout",
     "output_type": "stream",
     "text": [
      "[1. 0. 0.]\n"
     ]
    }
   ],
   "source": [
    "fig = plt.figure()\n",
    "ax = fig.add_subplot(111, projection='3d')\n",
    "origin = np.array([0, 0, 0])\n",
    "\n",
    "random_points_line = np.array([[-1,0,0],[-2,0,0]])\n",
    "vector_v = random_points_line[0]-random_points_line[1]\n",
    "vector_v_unit = vector_v/norm(vector_v)\n",
    "\n",
    "print(vector_v_unit)\n",
    "line = np.array([-10*vector_v_unit,10*vector_v_unit])\n",
    "\n",
    "x = line[:,0]\n",
    "y = line[:,1]\n",
    "z = line[:,2]\n",
    "\n",
    "ax.plot(x, y, z, label='parametric curve')\n",
    "\n",
    "ax.plot_surface(X, Y, Z)\n",
    "#plot axis\n",
    "ax.plot(*zip(p0, p1), color = 'red')\n",
    "\n",
    "ax.set_xlim(-10, 10)\n",
    "ax.set_ylim(-10, 10)\n",
    "ax.set_zlim(-10, 10)\n",
    "plt.show()"
   ]
  }
 ],
 "metadata": {
  "kernelspec": {
   "display_name": "Python 3",
   "language": "python",
   "name": "python3"
  },
  "language_info": {
   "codemirror_mode": {
    "name": "ipython",
    "version": 3
   },
   "file_extension": ".py",
   "mimetype": "text/x-python",
   "name": "python",
   "nbconvert_exporter": "python",
   "pygments_lexer": "ipython3",
   "version": "3.7.6"
  }
 },
 "nbformat": 4,
 "nbformat_minor": 4
}
